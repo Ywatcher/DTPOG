{
 "cells": [
  {
   "cell_type": "code",
   "execution_count": 4,
   "id": "4d8a27e4-6ae0-414b-9b3e-827ce480e96d",
   "metadata": {},
   "outputs": [],
   "source": [
    "from demo_games.freddy.main import main"
   ]
  },
  {
   "cell_type": "code",
   "execution_count": 5,
   "id": "24194437-f358-4df3-a216-6e07b3ed43cd",
   "metadata": {},
   "outputs": [
    {
     "name": "stdin",
     "output_type": "stream",
     "text": [
      "(five nights at freddy's)  v\n"
     ]
    },
    {
     "name": "stdout",
     "output_type": "stream",
     "text": [
      "check view\n",
      "[]\n"
     ]
    },
    {
     "name": "stdin",
     "output_type": "stream",
     "text": [
      "(five nights at freddy's)  v\n"
     ]
    },
    {
     "name": "stdout",
     "output_type": "stream",
     "text": [
      "check view\n",
      "[]\n"
     ]
    },
    {
     "name": "stdin",
     "output_type": "stream",
     "text": [
      "(five nights at freddy's)  q\n"
     ]
    },
    {
     "name": "stdout",
     "output_type": "stream",
     "text": [
      "quit game\n"
     ]
    },
    {
     "ename": "KeyError",
     "evalue": "'room'",
     "output_type": "error",
     "traceback": [
      "\u001b[0;31m---------------------------------------------------------------------------\u001b[0m",
      "\u001b[0;31mKeyError\u001b[0m                                  Traceback (most recent call last)",
      "Cell \u001b[0;32mIn [5], line 1\u001b[0m\n\u001b[0;32m----> 1\u001b[0m \u001b[43mmain\u001b[49m\u001b[43m(\u001b[49m\u001b[43m)\u001b[49m\n",
      "File \u001b[0;32m/media/ywatcher/ExtDisk1/Files/Games/partially_obs_game/src/demo_games/freddy/main.py:10\u001b[0m, in \u001b[0;36mmain\u001b[0;34m()\u001b[0m\n\u001b[1;32m      8\u001b[0m \u001b[38;5;28;01mtry\u001b[39;00m:\n\u001b[1;32m      9\u001b[0m     \u001b[38;5;28;01mwhile\u001b[39;00m \u001b[38;5;129;01mnot\u001b[39;00m e\u001b[38;5;241m.\u001b[39mgame_end:\n\u001b[0;32m---> 10\u001b[0m         \u001b[43me\u001b[49m\u001b[38;5;241;43m.\u001b[39;49m\u001b[43mupdate\u001b[49m\u001b[43m(\u001b[49m\u001b[43m)\u001b[49m\n\u001b[1;32m     11\u001b[0m         time\u001b[38;5;241m.\u001b[39msleep(\u001b[38;5;241m1e-2\u001b[39m)  \u001b[38;5;66;03m# each frame: 10 ms\u001b[39;00m\n\u001b[1;32m     12\u001b[0m \u001b[38;5;28;01mfinally\u001b[39;00m:\n",
      "File \u001b[0;32m/media/ywatcher/ExtDisk1/Files/Games/partially_obs_game/src/framework_basic/environment.py:40\u001b[0m, in \u001b[0;36mEnvironment.update\u001b[0;34m(self, *args)\u001b[0m\n\u001b[1;32m     38\u001b[0m \u001b[38;5;28;01mfor\u001b[39;00m domain \u001b[38;5;129;01min\u001b[39;00m \u001b[38;5;28mself\u001b[39m\u001b[38;5;241m.\u001b[39minstances\u001b[38;5;241m.\u001b[39mkeys():\n\u001b[1;32m     39\u001b[0m     \u001b[38;5;28;01mfor\u001b[39;00m instance \u001b[38;5;129;01min\u001b[39;00m \u001b[38;5;28mself\u001b[39m\u001b[38;5;241m.\u001b[39minstances[domain]:\n\u001b[0;32m---> 40\u001b[0m         \u001b[43minstance\u001b[49m\u001b[38;5;241;43m.\u001b[39;49m\u001b[43mcall_update\u001b[49m\u001b[43m(\u001b[49m\u001b[38;5;28;43mself\u001b[39;49m\u001b[38;5;241;43m.\u001b[39;49m\u001b[43mtimer\u001b[49m\u001b[43m)\u001b[49m\n\u001b[1;32m     42\u001b[0m \u001b[38;5;66;03m# previous reduce life\u001b[39;00m\n\u001b[1;32m     43\u001b[0m \u001b[38;5;66;03m# FIXME: the order\u001b[39;00m\n\u001b[1;32m     44\u001b[0m \u001b[38;5;66;03m# reduce each event's lifetime by 1\u001b[39;00m\n\u001b[0;32m   (...)\u001b[0m\n\u001b[1;32m     47\u001b[0m \u001b[38;5;66;03m# if no event is trigered, an empty list\u001b[39;00m\n\u001b[1;32m     48\u001b[0m \u001b[38;5;66;03m# is produced by this event.\u001b[39;00m\n\u001b[1;32m     49\u001b[0m successor_events \u001b[38;5;241m=\u001b[39m \u001b[38;5;28mself\u001b[39m\u001b[38;5;241m.\u001b[39mevent_manager\u001b[38;5;241m.\u001b[39mreduce_life_all()\n",
      "File \u001b[0;32m/media/ywatcher/ExtDisk1/Files/Games/partially_obs_game/src/framework_basic/game_object.py:23\u001b[0m, in \u001b[0;36mGameObject.call_update\u001b[0;34m(self, timer)\u001b[0m\n\u001b[1;32m     21\u001b[0m \u001b[38;5;28;01mdef\u001b[39;00m \u001b[38;5;21mcall_update\u001b[39m(\u001b[38;5;28mself\u001b[39m, timer):\n\u001b[1;32m     22\u001b[0m     \u001b[38;5;66;03m# use old event buffer to update\u001b[39;00m\n\u001b[0;32m---> 23\u001b[0m     \u001b[38;5;28;43mself\u001b[39;49m\u001b[38;5;241;43m.\u001b[39;49m\u001b[43mupdate\u001b[49m\u001b[43m(\u001b[49m\u001b[38;5;28;43mself\u001b[39;49m\u001b[38;5;241;43m.\u001b[39;49m\u001b[43m_received_event_buffer_old\u001b[49m\u001b[43m,\u001b[49m\u001b[43m \u001b[49m\u001b[43mtimer\u001b[49m\u001b[43m)\u001b[49m\n",
      "File \u001b[0;32m/media/ywatcher/ExtDisk1/Files/Games/partially_obs_game/src/demo_games/freddy/rooms.py:131\u001b[0m, in \u001b[0;36mOffice.update\u001b[0;34m(self, obs_list, timer)\u001b[0m\n\u001b[1;32m    129\u001b[0m     \u001b[38;5;28mself\u001b[39m\u001b[38;5;241m.\u001b[39mcurrent_obs_event \u001b[38;5;241m=\u001b[39m ObserveEvent(\u001b[38;5;28mself\u001b[39m\u001b[38;5;241m.\u001b[39mcurrent_view)\n\u001b[1;32m    130\u001b[0m     \u001b[38;5;28mself\u001b[39m\u001b[38;5;241m.\u001b[39m_event_factory\u001b[38;5;241m.\u001b[39madd_event(\u001b[38;5;28mself\u001b[39m\u001b[38;5;241m.\u001b[39mcurrent_obs_event)\n\u001b[0;32m--> 131\u001b[0m     \u001b[38;5;28;43mself\u001b[39;49m\u001b[38;5;241;43m.\u001b[39;49m\u001b[43msend_event\u001b[49m\u001b[43m(\u001b[49m\u001b[38;5;28;43mself\u001b[39;49m\u001b[38;5;241;43m.\u001b[39;49m\u001b[43mcurrent_obs_event\u001b[49m\u001b[43m)\u001b[49m\n\u001b[1;32m    132\u001b[0m \u001b[38;5;66;03m# state event should be at last\u001b[39;00m\n\u001b[1;32m    133\u001b[0m info_event \u001b[38;5;241m=\u001b[39m OfficeInfoEvent(\u001b[38;5;28mself\u001b[39m\u001b[38;5;241m.\u001b[39mstate)\n",
      "File \u001b[0;32m/media/ywatcher/ExtDisk1/Files/Games/partially_obs_game/src/util/observer.py:25\u001b[0m, in \u001b[0;36mObservedSubject.send_event\u001b[0;34m(self, event)\u001b[0m\n\u001b[1;32m     23\u001b[0m \u001b[38;5;28;01mdef\u001b[39;00m \u001b[38;5;21msend_event\u001b[39m(\u001b[38;5;28mself\u001b[39m, event):\n\u001b[1;32m     24\u001b[0m     \u001b[38;5;28;01mfor\u001b[39;00m o \u001b[38;5;129;01min\u001b[39;00m \u001b[38;5;28mself\u001b[39m\u001b[38;5;241m.\u001b[39mobservers:\n\u001b[0;32m---> 25\u001b[0m         \u001b[43mo\u001b[49m\u001b[38;5;241;43m.\u001b[39;49m\u001b[43mupdate_as_observer\u001b[49m\u001b[43m(\u001b[49m\u001b[43mevent\u001b[49m\u001b[43m)\u001b[49m\n",
      "File \u001b[0;32m/media/ywatcher/ExtDisk1/Files/Games/partially_obs_game/src/framework_basic/environment.py:31\u001b[0m, in \u001b[0;36mEnvironment.update_as_observer\u001b[0;34m(self, event)\u001b[0m\n\u001b[1;32m     30\u001b[0m \u001b[38;5;28;01mdef\u001b[39;00m \u001b[38;5;21mupdate_as_observer\u001b[39m(\u001b[38;5;28mself\u001b[39m, event: event_T):\n\u001b[0;32m---> 31\u001b[0m     receiver_message_info \u001b[38;5;241m=\u001b[39m \u001b[38;5;28;43mself\u001b[39;49m\u001b[38;5;241;43m.\u001b[39;49m\u001b[43mconvert_event\u001b[49m\u001b[43m(\u001b[49m\u001b[43mevent\u001b[49m\u001b[43m)\u001b[49m\n\u001b[1;32m     32\u001b[0m     \u001b[38;5;28;01mfor\u001b[39;00m receiver \u001b[38;5;129;01min\u001b[39;00m receiver_message_info\u001b[38;5;241m.\u001b[39mkeys():\n\u001b[1;32m     33\u001b[0m         messages_to_receiver \u001b[38;5;241m=\u001b[39m receiver_message_info[receiver]\n",
      "File \u001b[0;32m/media/ywatcher/ExtDisk1/Files/Games/partially_obs_game/src/demo_games/freddy/game_objects.py:125\u001b[0m, in \u001b[0;36mFreddyEnvironment.convert_event\u001b[0;34m(self, event)\u001b[0m\n\u001b[1;32m    119\u001b[0m     room_to_see \u001b[38;5;241m=\u001b[39m cam_name\u001b[38;5;241m.\u001b[39mroom()\n\u001b[1;32m    120\u001b[0m     characters_you_can_see \u001b[38;5;241m=\u001b[39m [\n\u001b[1;32m    121\u001b[0m         c \u001b[38;5;28;01mfor\u001b[39;00m c \u001b[38;5;129;01min\u001b[39;00m \u001b[38;5;28mself\u001b[39m\u001b[38;5;241m.\u001b[39minstances[\u001b[38;5;124m\"\u001b[39m\u001b[38;5;124mcharacter\u001b[39m\u001b[38;5;124m\"\u001b[39m]\n\u001b[1;32m    122\u001b[0m         \u001b[38;5;28;01mif\u001b[39;00m c\u001b[38;5;241m.\u001b[39mlocation[\u001b[38;5;241m0\u001b[39m] \u001b[38;5;241m==\u001b[39m room_to_see\n\u001b[1;32m    123\u001b[0m     ]\n\u001b[1;32m    124\u001b[0m     objects_observed \u001b[38;5;241m=\u001b[39m characters_you_can_see \\\n\u001b[0;32m--> 125\u001b[0m         \u001b[38;5;241m+\u001b[39m [\u001b[38;5;28;43mself\u001b[39;49m\u001b[38;5;241;43m.\u001b[39;49m\u001b[43mget_room\u001b[49m\u001b[43m(\u001b[49m\u001b[43mroom_to_see\u001b[49m\u001b[43m)\u001b[49m]\n\u001b[1;32m    126\u001b[0m     \u001b[38;5;28;01mreturn\u001b[39;00m {\n\u001b[1;32m    127\u001b[0m         obj: [event]\n\u001b[1;32m    128\u001b[0m         \u001b[38;5;28;01mfor\u001b[39;00m obj \u001b[38;5;129;01min\u001b[39;00m objects_observed\n\u001b[1;32m    129\u001b[0m     }\n\u001b[1;32m    130\u001b[0m \u001b[38;5;28;01melif\u001b[39;00m event\u001b[38;5;241m.\u001b[39mevent_type \u001b[38;5;241m==\u001b[39m FreddyEventType\u001b[38;5;241m.\u001b[39mcharacterObservedEvent:\n\u001b[1;32m    131\u001b[0m     \u001b[38;5;66;03m# send to player\u001b[39;00m\n",
      "File \u001b[0;32m/media/ywatcher/ExtDisk1/Files/Games/partially_obs_game/src/demo_games/freddy/game_objects.py:93\u001b[0m, in \u001b[0;36mFreddyEnvironment.get_room\u001b[0;34m(self, room_name)\u001b[0m\n\u001b[1;32m     92\u001b[0m \u001b[38;5;28;01mdef\u001b[39;00m \u001b[38;5;21mget_room\u001b[39m(\u001b[38;5;28mself\u001b[39m, room_name: \u001b[38;5;28mstr\u001b[39m) \u001b[38;5;241m-\u001b[39m\u001b[38;5;241m>\u001b[39m Room:\n\u001b[0;32m---> 93\u001b[0m     \u001b[38;5;28;01mreturn\u001b[39;00m \u001b[38;5;28;43mself\u001b[39;49m\u001b[38;5;241;43m.\u001b[39;49m\u001b[43m_map_dict\u001b[49m\u001b[43m[\u001b[49m\u001b[38;5;124;43m\"\u001b[39;49m\u001b[38;5;124;43mroom\u001b[39;49m\u001b[38;5;124;43m\"\u001b[39;49m\u001b[43m]\u001b[49m[room_name]\n",
      "\u001b[0;31mKeyError\u001b[0m: 'room'"
     ]
    }
   ],
   "source": [
    "main()"
   ]
  },
  {
   "cell_type": "code",
   "execution_count": 6,
   "id": "e2b683ed-e932-443b-aa2e-f09da76682d4",
   "metadata": {},
   "outputs": [
    {
     "name": "stdin",
     "output_type": "stream",
     "text": [
      "(five nights at freddy's)  q\n"
     ]
    },
    {
     "name": "stdout",
     "output_type": "stream",
     "text": [
      "quit game\n"
     ]
    },
    {
     "ename": "KeyError",
     "evalue": "'room'",
     "output_type": "error",
     "traceback": [
      "\u001b[0;31m---------------------------------------------------------------------------\u001b[0m",
      "\u001b[0;31mKeyError\u001b[0m                                  Traceback (most recent call last)",
      "Cell \u001b[0;32mIn [6], line 1\u001b[0m\n\u001b[0;32m----> 1\u001b[0m \u001b[43mmain\u001b[49m\u001b[43m(\u001b[49m\u001b[43m)\u001b[49m\n",
      "File \u001b[0;32m/media/ywatcher/ExtDisk1/Files/Games/partially_obs_game/src/demo_games/freddy/main.py:10\u001b[0m, in \u001b[0;36mmain\u001b[0;34m()\u001b[0m\n\u001b[1;32m      8\u001b[0m \u001b[38;5;28;01mtry\u001b[39;00m:\n\u001b[1;32m      9\u001b[0m     \u001b[38;5;28;01mwhile\u001b[39;00m \u001b[38;5;129;01mnot\u001b[39;00m e\u001b[38;5;241m.\u001b[39mgame_end:\n\u001b[0;32m---> 10\u001b[0m         \u001b[43me\u001b[49m\u001b[38;5;241;43m.\u001b[39;49m\u001b[43mupdate\u001b[49m\u001b[43m(\u001b[49m\u001b[43m)\u001b[49m\n\u001b[1;32m     11\u001b[0m         time\u001b[38;5;241m.\u001b[39msleep(\u001b[38;5;241m1e-2\u001b[39m)  \u001b[38;5;66;03m# each frame: 10 ms\u001b[39;00m\n\u001b[1;32m     12\u001b[0m \u001b[38;5;28;01mfinally\u001b[39;00m:\n",
      "File \u001b[0;32m/media/ywatcher/ExtDisk1/Files/Games/partially_obs_game/src/framework_basic/environment.py:40\u001b[0m, in \u001b[0;36mEnvironment.update\u001b[0;34m(self, *args)\u001b[0m\n\u001b[1;32m     38\u001b[0m \u001b[38;5;28;01mfor\u001b[39;00m domain \u001b[38;5;129;01min\u001b[39;00m \u001b[38;5;28mself\u001b[39m\u001b[38;5;241m.\u001b[39minstances\u001b[38;5;241m.\u001b[39mkeys():\n\u001b[1;32m     39\u001b[0m     \u001b[38;5;28;01mfor\u001b[39;00m instance \u001b[38;5;129;01min\u001b[39;00m \u001b[38;5;28mself\u001b[39m\u001b[38;5;241m.\u001b[39minstances[domain]:\n\u001b[0;32m---> 40\u001b[0m         \u001b[43minstance\u001b[49m\u001b[38;5;241;43m.\u001b[39;49m\u001b[43mcall_update\u001b[49m\u001b[43m(\u001b[49m\u001b[38;5;28;43mself\u001b[39;49m\u001b[38;5;241;43m.\u001b[39;49m\u001b[43mtimer\u001b[49m\u001b[43m)\u001b[49m\n\u001b[1;32m     42\u001b[0m \u001b[38;5;66;03m# previous reduce life\u001b[39;00m\n\u001b[1;32m     43\u001b[0m \u001b[38;5;66;03m# FIXME: the order\u001b[39;00m\n\u001b[1;32m     44\u001b[0m \u001b[38;5;66;03m# reduce each event's lifetime by 1\u001b[39;00m\n\u001b[0;32m   (...)\u001b[0m\n\u001b[1;32m     47\u001b[0m \u001b[38;5;66;03m# if no event is trigered, an empty list\u001b[39;00m\n\u001b[1;32m     48\u001b[0m \u001b[38;5;66;03m# is produced by this event.\u001b[39;00m\n\u001b[1;32m     49\u001b[0m successor_events \u001b[38;5;241m=\u001b[39m \u001b[38;5;28mself\u001b[39m\u001b[38;5;241m.\u001b[39mevent_manager\u001b[38;5;241m.\u001b[39mreduce_life_all()\n",
      "File \u001b[0;32m/media/ywatcher/ExtDisk1/Files/Games/partially_obs_game/src/framework_basic/game_object.py:23\u001b[0m, in \u001b[0;36mGameObject.call_update\u001b[0;34m(self, timer)\u001b[0m\n\u001b[1;32m     21\u001b[0m \u001b[38;5;28;01mdef\u001b[39;00m \u001b[38;5;21mcall_update\u001b[39m(\u001b[38;5;28mself\u001b[39m, timer):\n\u001b[1;32m     22\u001b[0m     \u001b[38;5;66;03m# use old event buffer to update\u001b[39;00m\n\u001b[0;32m---> 23\u001b[0m     \u001b[38;5;28;43mself\u001b[39;49m\u001b[38;5;241;43m.\u001b[39;49m\u001b[43mupdate\u001b[49m\u001b[43m(\u001b[49m\u001b[38;5;28;43mself\u001b[39;49m\u001b[38;5;241;43m.\u001b[39;49m\u001b[43m_received_event_buffer_old\u001b[49m\u001b[43m,\u001b[49m\u001b[43m \u001b[49m\u001b[43mtimer\u001b[49m\u001b[43m)\u001b[49m\n",
      "File \u001b[0;32m/media/ywatcher/ExtDisk1/Files/Games/partially_obs_game/src/demo_games/freddy/rooms.py:131\u001b[0m, in \u001b[0;36mOffice.update\u001b[0;34m(self, obs_list, timer)\u001b[0m\n\u001b[1;32m    129\u001b[0m     \u001b[38;5;28mself\u001b[39m\u001b[38;5;241m.\u001b[39mcurrent_obs_event \u001b[38;5;241m=\u001b[39m ObserveEvent(\u001b[38;5;28mself\u001b[39m\u001b[38;5;241m.\u001b[39mcurrent_view)\n\u001b[1;32m    130\u001b[0m     \u001b[38;5;28mself\u001b[39m\u001b[38;5;241m.\u001b[39m_event_factory\u001b[38;5;241m.\u001b[39madd_event(\u001b[38;5;28mself\u001b[39m\u001b[38;5;241m.\u001b[39mcurrent_obs_event)\n\u001b[0;32m--> 131\u001b[0m     \u001b[38;5;28;43mself\u001b[39;49m\u001b[38;5;241;43m.\u001b[39;49m\u001b[43msend_event\u001b[49m\u001b[43m(\u001b[49m\u001b[38;5;28;43mself\u001b[39;49m\u001b[38;5;241;43m.\u001b[39;49m\u001b[43mcurrent_obs_event\u001b[49m\u001b[43m)\u001b[49m\n\u001b[1;32m    132\u001b[0m \u001b[38;5;66;03m# state event should be at last\u001b[39;00m\n\u001b[1;32m    133\u001b[0m info_event \u001b[38;5;241m=\u001b[39m OfficeInfoEvent(\u001b[38;5;28mself\u001b[39m\u001b[38;5;241m.\u001b[39mstate)\n",
      "File \u001b[0;32m/media/ywatcher/ExtDisk1/Files/Games/partially_obs_game/src/util/observer.py:25\u001b[0m, in \u001b[0;36mObservedSubject.send_event\u001b[0;34m(self, event)\u001b[0m\n\u001b[1;32m     23\u001b[0m \u001b[38;5;28;01mdef\u001b[39;00m \u001b[38;5;21msend_event\u001b[39m(\u001b[38;5;28mself\u001b[39m, event):\n\u001b[1;32m     24\u001b[0m     \u001b[38;5;28;01mfor\u001b[39;00m o \u001b[38;5;129;01min\u001b[39;00m \u001b[38;5;28mself\u001b[39m\u001b[38;5;241m.\u001b[39mobservers:\n\u001b[0;32m---> 25\u001b[0m         \u001b[43mo\u001b[49m\u001b[38;5;241;43m.\u001b[39;49m\u001b[43mupdate_as_observer\u001b[49m\u001b[43m(\u001b[49m\u001b[43mevent\u001b[49m\u001b[43m)\u001b[49m\n",
      "File \u001b[0;32m/media/ywatcher/ExtDisk1/Files/Games/partially_obs_game/src/framework_basic/environment.py:31\u001b[0m, in \u001b[0;36mEnvironment.update_as_observer\u001b[0;34m(self, event)\u001b[0m\n\u001b[1;32m     30\u001b[0m \u001b[38;5;28;01mdef\u001b[39;00m \u001b[38;5;21mupdate_as_observer\u001b[39m(\u001b[38;5;28mself\u001b[39m, event: event_T):\n\u001b[0;32m---> 31\u001b[0m     receiver_message_info \u001b[38;5;241m=\u001b[39m \u001b[38;5;28;43mself\u001b[39;49m\u001b[38;5;241;43m.\u001b[39;49m\u001b[43mconvert_event\u001b[49m\u001b[43m(\u001b[49m\u001b[43mevent\u001b[49m\u001b[43m)\u001b[49m\n\u001b[1;32m     32\u001b[0m     \u001b[38;5;28;01mfor\u001b[39;00m receiver \u001b[38;5;129;01min\u001b[39;00m receiver_message_info\u001b[38;5;241m.\u001b[39mkeys():\n\u001b[1;32m     33\u001b[0m         messages_to_receiver \u001b[38;5;241m=\u001b[39m receiver_message_info[receiver]\n",
      "File \u001b[0;32m/media/ywatcher/ExtDisk1/Files/Games/partially_obs_game/src/demo_games/freddy/game_objects.py:125\u001b[0m, in \u001b[0;36mFreddyEnvironment.convert_event\u001b[0;34m(self, event)\u001b[0m\n\u001b[1;32m    119\u001b[0m     room_to_see \u001b[38;5;241m=\u001b[39m cam_name\u001b[38;5;241m.\u001b[39mroom()\n\u001b[1;32m    120\u001b[0m     characters_you_can_see \u001b[38;5;241m=\u001b[39m [\n\u001b[1;32m    121\u001b[0m         c \u001b[38;5;28;01mfor\u001b[39;00m c \u001b[38;5;129;01min\u001b[39;00m \u001b[38;5;28mself\u001b[39m\u001b[38;5;241m.\u001b[39minstances[\u001b[38;5;124m\"\u001b[39m\u001b[38;5;124mcharacter\u001b[39m\u001b[38;5;124m\"\u001b[39m]\n\u001b[1;32m    122\u001b[0m         \u001b[38;5;28;01mif\u001b[39;00m c\u001b[38;5;241m.\u001b[39mlocation[\u001b[38;5;241m0\u001b[39m] \u001b[38;5;241m==\u001b[39m room_to_see\n\u001b[1;32m    123\u001b[0m     ]\n\u001b[1;32m    124\u001b[0m     objects_observed \u001b[38;5;241m=\u001b[39m characters_you_can_see \\\n\u001b[0;32m--> 125\u001b[0m         \u001b[38;5;241m+\u001b[39m [\u001b[38;5;28;43mself\u001b[39;49m\u001b[38;5;241;43m.\u001b[39;49m\u001b[43mget_room\u001b[49m\u001b[43m(\u001b[49m\u001b[43mroom_to_see\u001b[49m\u001b[43m)\u001b[49m]\n\u001b[1;32m    126\u001b[0m     \u001b[38;5;28;01mreturn\u001b[39;00m {\n\u001b[1;32m    127\u001b[0m         obj: [event]\n\u001b[1;32m    128\u001b[0m         \u001b[38;5;28;01mfor\u001b[39;00m obj \u001b[38;5;129;01min\u001b[39;00m objects_observed\n\u001b[1;32m    129\u001b[0m     }\n\u001b[1;32m    130\u001b[0m \u001b[38;5;28;01melif\u001b[39;00m event\u001b[38;5;241m.\u001b[39mevent_type \u001b[38;5;241m==\u001b[39m FreddyEventType\u001b[38;5;241m.\u001b[39mcharacterObservedEvent:\n\u001b[1;32m    131\u001b[0m     \u001b[38;5;66;03m# send to player\u001b[39;00m\n",
      "File \u001b[0;32m/media/ywatcher/ExtDisk1/Files/Games/partially_obs_game/src/demo_games/freddy/game_objects.py:93\u001b[0m, in \u001b[0;36mFreddyEnvironment.get_room\u001b[0;34m(self, room_name)\u001b[0m\n\u001b[1;32m     92\u001b[0m \u001b[38;5;28;01mdef\u001b[39;00m \u001b[38;5;21mget_room\u001b[39m(\u001b[38;5;28mself\u001b[39m, room_name: \u001b[38;5;28mstr\u001b[39m) \u001b[38;5;241m-\u001b[39m\u001b[38;5;241m>\u001b[39m Room:\n\u001b[0;32m---> 93\u001b[0m     \u001b[38;5;28;01mreturn\u001b[39;00m \u001b[38;5;28;43mself\u001b[39;49m\u001b[38;5;241;43m.\u001b[39;49m\u001b[43m_map_dict\u001b[49m\u001b[43m[\u001b[49m\u001b[38;5;124;43m\"\u001b[39;49m\u001b[38;5;124;43mroom\u001b[39;49m\u001b[38;5;124;43m\"\u001b[39;49m\u001b[43m]\u001b[49m[room_name]\n",
      "\u001b[0;31mKeyError\u001b[0m: 'room'"
     ]
    }
   ],
   "source": [
    "main()"
   ]
  },
  {
   "cell_type": "code",
   "execution_count": null,
   "id": "6d177c5a-4e2d-4982-9f7d-4408a86e30c9",
   "metadata": {},
   "outputs": [],
   "source": []
  }
 ],
 "metadata": {
  "kernelspec": {
   "display_name": "Python 3 (ipykernel)",
   "language": "python",
   "name": "python3"
  },
  "language_info": {
   "codemirror_mode": {
    "name": "ipython",
    "version": 3
   },
   "file_extension": ".py",
   "mimetype": "text/x-python",
   "name": "python",
   "nbconvert_exporter": "python",
   "pygments_lexer": "ipython3",
   "version": "3.9.15"
  }
 },
 "nbformat": 4,
 "nbformat_minor": 5
}
