{
 "cells": [
  {
   "cell_type": "code",
   "execution_count": 1,
   "id": "4d8a27e4-6ae0-414b-9b3e-827ce480e96d",
   "metadata": {},
   "outputs": [],
   "source": [
    "import demo_games.freddy.main"
   ]
  },
  {
   "cell_type": "code",
   "execution_count": null,
   "id": "24194437-f358-4df3-a216-6e07b3ed43cd",
   "metadata": {},
   "outputs": [],
   "source": []
  }
 ],
 "metadata": {
  "kernelspec": {
   "display_name": "Python 3 (ipykernel)",
   "language": "python",
   "name": "python3"
  },
  "language_info": {
   "codemirror_mode": {
    "name": "ipython",
    "version": 3
   },
   "file_extension": ".py",
   "mimetype": "text/x-python",
   "name": "python",
   "nbconvert_exporter": "python",
   "pygments_lexer": "ipython3",
   "version": "3.9.15"
  }
 },
 "nbformat": 4,
 "nbformat_minor": 5
}
